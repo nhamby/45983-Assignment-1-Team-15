{
 "cells": [
  {
   "cell_type": "markdown",
   "metadata": {},
   "source": [
    "# Do Great Players Make their Teammates Better?"
   ]
  },
  {
   "cell_type": "markdown",
   "metadata": {},
   "source": [
    "## Load Libraries and Data"
   ]
  },
  {
   "cell_type": "code",
   "execution_count": 32,
   "metadata": {},
   "outputs": [],
   "source": [
    "# load libraries\n",
    "import matplotlib.pyplot as plt\n",
    "import numpy as np\n",
    "import pandas as pd\n",
    "import seaborn as sns"
   ]
  },
  {
   "cell_type": "code",
   "execution_count": 33,
   "metadata": {},
   "outputs": [],
   "source": [
    "# load data\n",
    "df_2017 = pd.read_csv(\"data/2017-2018 NBA Play-By-Play Data.csv\", low_memory=False)\n",
    "df_2018 = pd.read_csv(\"data/2018-2019 NBA Play-By-Play Data.csv\", low_memory=False)\n",
    "df_2019 = pd.read_csv(\"data/2019-2020 NBA Play-By-Play Data.csv\", low_memory=False)"
   ]
  },
  {
   "cell_type": "code",
   "execution_count": 34,
   "metadata": {},
   "outputs": [],
   "source": [
    "# concatenate data into one dataframe\n",
    "df = pd.concat([df_2017, df_2018, df_2019], ignore_index=True)"
   ]
  },
  {
   "cell_type": "markdown",
   "metadata": {},
   "source": [
    "## Inspect Data"
   ]
  },
  {
   "cell_type": "code",
   "execution_count": 35,
   "metadata": {},
   "outputs": [
    {
     "data": {
      "text/html": [
       "<div>\n",
       "<style scoped>\n",
       "    .dataframe tbody tr th:only-of-type {\n",
       "        vertical-align: middle;\n",
       "    }\n",
       "\n",
       "    .dataframe tbody tr th {\n",
       "        vertical-align: top;\n",
       "    }\n",
       "\n",
       "    .dataframe thead th {\n",
       "        text-align: right;\n",
       "    }\n",
       "</style>\n",
       "<table border=\"1\" class=\"dataframe\">\n",
       "  <thead>\n",
       "    <tr style=\"text-align: right;\">\n",
       "      <th></th>\n",
       "      <th>Unnamed: 0</th>\n",
       "      <th>game_id</th>\n",
       "      <th>data_set</th>\n",
       "      <th>date</th>\n",
       "      <th>a1</th>\n",
       "      <th>a2</th>\n",
       "      <th>a3</th>\n",
       "      <th>a4</th>\n",
       "      <th>a5</th>\n",
       "      <th>h1</th>\n",
       "      <th>...</th>\n",
       "      <th>type</th>\n",
       "      <th>shot_distance</th>\n",
       "      <th>original_x</th>\n",
       "      <th>original_y</th>\n",
       "      <th>converted_x</th>\n",
       "      <th>converted_y</th>\n",
       "      <th>description</th>\n",
       "      <th>GameFile</th>\n",
       "      <th>Unnamed: 44</th>\n",
       "      <th>Unnamed: 45</th>\n",
       "    </tr>\n",
       "  </thead>\n",
       "  <tbody>\n",
       "    <tr>\n",
       "      <th>0</th>\n",
       "      <td>0</td>\n",
       "      <td>=\"0021701224\"</td>\n",
       "      <td>2017-2018 Regular Season</td>\n",
       "      <td>2018-04-11</td>\n",
       "      <td>Stanley Johnson</td>\n",
       "      <td>Anthony Tolliver</td>\n",
       "      <td>Eric Moreland</td>\n",
       "      <td>Luke Kennard</td>\n",
       "      <td>Reggie Jackson</td>\n",
       "      <td>David Nwaba</td>\n",
       "      <td>...</td>\n",
       "      <td>start of period</td>\n",
       "      <td>NaN</td>\n",
       "      <td>NaN</td>\n",
       "      <td>NaN</td>\n",
       "      <td>NaN</td>\n",
       "      <td>NaN</td>\n",
       "      <td>NaN</td>\n",
       "      <td>[2018-04-11]-0021701224-DET@CHI.csv</td>\n",
       "      <td>NaN</td>\n",
       "      <td>NaN</td>\n",
       "    </tr>\n",
       "    <tr>\n",
       "      <th>1</th>\n",
       "      <td>1</td>\n",
       "      <td>=\"0021701224\"</td>\n",
       "      <td>2017-2018 Regular Season</td>\n",
       "      <td>2018-04-11</td>\n",
       "      <td>Stanley Johnson</td>\n",
       "      <td>Anthony Tolliver</td>\n",
       "      <td>Eric Moreland</td>\n",
       "      <td>Luke Kennard</td>\n",
       "      <td>Reggie Jackson</td>\n",
       "      <td>David Nwaba</td>\n",
       "      <td>...</td>\n",
       "      <td>jump ball</td>\n",
       "      <td>NaN</td>\n",
       "      <td>NaN</td>\n",
       "      <td>NaN</td>\n",
       "      <td>NaN</td>\n",
       "      <td>NaN</td>\n",
       "      <td>Jump Ball Felicio vs. Moreland: Tip to Markkanen</td>\n",
       "      <td>[2018-04-11]-0021701224-DET@CHI.csv</td>\n",
       "      <td>NaN</td>\n",
       "      <td>NaN</td>\n",
       "    </tr>\n",
       "    <tr>\n",
       "      <th>2</th>\n",
       "      <td>2</td>\n",
       "      <td>=\"0021701224\"</td>\n",
       "      <td>2017-2018 Regular Season</td>\n",
       "      <td>2018-04-11</td>\n",
       "      <td>Stanley Johnson</td>\n",
       "      <td>Anthony Tolliver</td>\n",
       "      <td>Eric Moreland</td>\n",
       "      <td>Luke Kennard</td>\n",
       "      <td>Reggie Jackson</td>\n",
       "      <td>David Nwaba</td>\n",
       "      <td>...</td>\n",
       "      <td>unknown</td>\n",
       "      <td>6.0</td>\n",
       "      <td>9.0</td>\n",
       "      <td>58.0</td>\n",
       "      <td>25.9</td>\n",
       "      <td>83.2</td>\n",
       "      <td>Nwaba 6' Driving Floating Jump Shot (2 PTS) (M...</td>\n",
       "      <td>[2018-04-11]-0021701224-DET@CHI.csv</td>\n",
       "      <td>NaN</td>\n",
       "      <td>NaN</td>\n",
       "    </tr>\n",
       "    <tr>\n",
       "      <th>3</th>\n",
       "      <td>3</td>\n",
       "      <td>=\"0021701224\"</td>\n",
       "      <td>2017-2018 Regular Season</td>\n",
       "      <td>2018-04-11</td>\n",
       "      <td>Stanley Johnson</td>\n",
       "      <td>Anthony Tolliver</td>\n",
       "      <td>Eric Moreland</td>\n",
       "      <td>Luke Kennard</td>\n",
       "      <td>Reggie Jackson</td>\n",
       "      <td>David Nwaba</td>\n",
       "      <td>...</td>\n",
       "      <td>unknown</td>\n",
       "      <td>NaN</td>\n",
       "      <td>NaN</td>\n",
       "      <td>NaN</td>\n",
       "      <td>NaN</td>\n",
       "      <td>NaN</td>\n",
       "      <td>Jackson Out of Bounds - Bad Pass Turnover Turn...</td>\n",
       "      <td>[2018-04-11]-0021701224-DET@CHI.csv</td>\n",
       "      <td>NaN</td>\n",
       "      <td>NaN</td>\n",
       "    </tr>\n",
       "    <tr>\n",
       "      <th>4</th>\n",
       "      <td>4</td>\n",
       "      <td>=\"0021701224\"</td>\n",
       "      <td>2017-2018 Regular Season</td>\n",
       "      <td>2018-04-11</td>\n",
       "      <td>Stanley Johnson</td>\n",
       "      <td>Anthony Tolliver</td>\n",
       "      <td>Eric Moreland</td>\n",
       "      <td>Luke Kennard</td>\n",
       "      <td>Reggie Jackson</td>\n",
       "      <td>David Nwaba</td>\n",
       "      <td>...</td>\n",
       "      <td>Jump Shot</td>\n",
       "      <td>27.0</td>\n",
       "      <td>123.0</td>\n",
       "      <td>243.0</td>\n",
       "      <td>37.3</td>\n",
       "      <td>64.7</td>\n",
       "      <td>MISS Markkanen 27' 3PT Jump Shot</td>\n",
       "      <td>[2018-04-11]-0021701224-DET@CHI.csv</td>\n",
       "      <td>NaN</td>\n",
       "      <td>NaN</td>\n",
       "    </tr>\n",
       "  </tbody>\n",
       "</table>\n",
       "<p>5 rows × 48 columns</p>\n",
       "</div>"
      ],
      "text/plain": [
       "   Unnamed: 0        game_id                  data_set        date  \\\n",
       "0           0  =\"0021701224\"  2017-2018 Regular Season  2018-04-11   \n",
       "1           1  =\"0021701224\"  2017-2018 Regular Season  2018-04-11   \n",
       "2           2  =\"0021701224\"  2017-2018 Regular Season  2018-04-11   \n",
       "3           3  =\"0021701224\"  2017-2018 Regular Season  2018-04-11   \n",
       "4           4  =\"0021701224\"  2017-2018 Regular Season  2018-04-11   \n",
       "\n",
       "                a1                a2             a3            a4  \\\n",
       "0  Stanley Johnson  Anthony Tolliver  Eric Moreland  Luke Kennard   \n",
       "1  Stanley Johnson  Anthony Tolliver  Eric Moreland  Luke Kennard   \n",
       "2  Stanley Johnson  Anthony Tolliver  Eric Moreland  Luke Kennard   \n",
       "3  Stanley Johnson  Anthony Tolliver  Eric Moreland  Luke Kennard   \n",
       "4  Stanley Johnson  Anthony Tolliver  Eric Moreland  Luke Kennard   \n",
       "\n",
       "               a5           h1  ...             type shot_distance original_x  \\\n",
       "0  Reggie Jackson  David Nwaba  ...  start of period           NaN        NaN   \n",
       "1  Reggie Jackson  David Nwaba  ...        jump ball           NaN        NaN   \n",
       "2  Reggie Jackson  David Nwaba  ...          unknown           6.0        9.0   \n",
       "3  Reggie Jackson  David Nwaba  ...          unknown           NaN        NaN   \n",
       "4  Reggie Jackson  David Nwaba  ...        Jump Shot          27.0      123.0   \n",
       "\n",
       "  original_y  converted_x  converted_y  \\\n",
       "0        NaN          NaN          NaN   \n",
       "1        NaN          NaN          NaN   \n",
       "2       58.0         25.9         83.2   \n",
       "3        NaN          NaN          NaN   \n",
       "4      243.0         37.3         64.7   \n",
       "\n",
       "                                         description  \\\n",
       "0                                                NaN   \n",
       "1   Jump Ball Felicio vs. Moreland: Tip to Markkanen   \n",
       "2  Nwaba 6' Driving Floating Jump Shot (2 PTS) (M...   \n",
       "3  Jackson Out of Bounds - Bad Pass Turnover Turn...   \n",
       "4                   MISS Markkanen 27' 3PT Jump Shot   \n",
       "\n",
       "                              GameFile Unnamed: 44 Unnamed: 45  \n",
       "0  [2018-04-11]-0021701224-DET@CHI.csv         NaN         NaN  \n",
       "1  [2018-04-11]-0021701224-DET@CHI.csv         NaN         NaN  \n",
       "2  [2018-04-11]-0021701224-DET@CHI.csv         NaN         NaN  \n",
       "3  [2018-04-11]-0021701224-DET@CHI.csv         NaN         NaN  \n",
       "4  [2018-04-11]-0021701224-DET@CHI.csv         NaN         NaN  \n",
       "\n",
       "[5 rows x 48 columns]"
      ]
     },
     "execution_count": 35,
     "metadata": {},
     "output_type": "execute_result"
    }
   ],
   "source": [
    "df.head()"
   ]
  },
  {
   "cell_type": "code",
   "execution_count": 36,
   "metadata": {},
   "outputs": [
    {
     "name": "stdout",
     "output_type": "stream",
     "text": [
      "columns:\n",
      " Index(['Unnamed: 0', 'game_id', 'data_set', 'date', 'a1', 'a2', 'a3', 'a4',\n",
      "       'a5', 'h1', 'h2', 'h3', 'h4', 'h5', 'period', 'away_score',\n",
      "       'home_score', 'remaining_time', 'elapsed', 'play_length', 'play_id',\n",
      "       'team', 'event_type', 'assist', 'away', 'home', 'block', 'entered',\n",
      "       'left', 'num', 'opponent', 'outof', 'player', 'points', 'possession',\n",
      "       'reason', 'result', 'steal', 'type', 'shot_distance', 'original_x',\n",
      "       'original_y', 'converted_x', 'converted_y', 'description', 'GameFile',\n",
      "       'Unnamed: 44', 'Unnamed: 45'],\n",
      "      dtype='object')\n"
     ]
    }
   ],
   "source": [
    "print(\"columns:\\n\", df.columns)"
   ]
  },
  {
   "cell_type": "code",
   "execution_count": 37,
   "metadata": {},
   "outputs": [
    {
     "name": "stdout",
     "output_type": "stream",
     "text": [
      "<class 'pandas.core.frame.DataFrame'>\n",
      "RangeIndex: 1764069 entries, 0 to 1764068\n",
      "Data columns (total 48 columns):\n",
      " #   Column          Dtype  \n",
      "---  ------          -----  \n",
      " 0   Unnamed: 0      int64  \n",
      " 1   game_id         object \n",
      " 2   data_set        object \n",
      " 3   date            object \n",
      " 4   a1              object \n",
      " 5   a2              object \n",
      " 6   a3              object \n",
      " 7   a4              object \n",
      " 8   a5              object \n",
      " 9   h1              object \n",
      " 10  h2              object \n",
      " 11  h3              object \n",
      " 12  h4              object \n",
      " 13  h5              object \n",
      " 14  period          int64  \n",
      " 15  away_score      int64  \n",
      " 16  home_score      int64  \n",
      " 17  remaining_time  object \n",
      " 18  elapsed         object \n",
      " 19  play_length     object \n",
      " 20  play_id         int64  \n",
      " 21  team            object \n",
      " 22  event_type      object \n",
      " 23  assist          object \n",
      " 24  away            object \n",
      " 25  home            object \n",
      " 26  block           object \n",
      " 27  entered         object \n",
      " 28  left            object \n",
      " 29  num             float64\n",
      " 30  opponent        object \n",
      " 31  outof           float64\n",
      " 32  player          object \n",
      " 33  points          float64\n",
      " 34  possession      object \n",
      " 35  reason          object \n",
      " 36  result          object \n",
      " 37  steal           object \n",
      " 38  type            object \n",
      " 39  shot_distance   object \n",
      " 40  original_x      object \n",
      " 41  original_y      object \n",
      " 42  converted_x     object \n",
      " 43  converted_y     object \n",
      " 44  description     object \n",
      " 45  GameFile        object \n",
      " 46  Unnamed: 44     float64\n",
      " 47  Unnamed: 45     float64\n",
      "dtypes: float64(5), int64(5), object(38)\n",
      "memory usage: 646.0+ MB\n"
     ]
    }
   ],
   "source": [
    "df.info()"
   ]
  },
  {
   "cell_type": "markdown",
   "metadata": {},
   "source": [
    "## Data Cleaning"
   ]
  },
  {
   "cell_type": "code",
   "execution_count": 38,
   "metadata": {},
   "outputs": [],
   "source": [
    "# remove nonsensical columns\n",
    "df.drop(columns=['Unnamed: 0', 'Unnamed: 44', 'Unnamed: 45'], inplace=True)"
   ]
  },
  {
   "cell_type": "code",
   "execution_count": 39,
   "metadata": {},
   "outputs": [],
   "source": [
    "# handle missing values\n",
    "df.fillna({\n",
    "    'points': 0,\n",
    "    'assist': 'None'\n",
    "}, inplace=True)"
   ]
  },
  {
   "cell_type": "code",
   "execution_count": 40,
   "metadata": {},
   "outputs": [],
   "source": [
    "# convert columns to correct data types\n",
    "df['shot_distance'] = pd.to_numeric(df['shot_distance'], errors='coerce')\n",
    "df['elapsed'] = pd.to_numeric(df['elapsed'], errors='coerce')\n",
    "df['play_length'] = pd.to_numeric(df['play_length'], errors='coerce')\n",
    "df['remaining_time_seconds'] = pd.to_timedelta(\"00:\" + df['remaining_time'].str.strip(), errors='coerce').dt.total_seconds()\n",
    "df['converted_x'] = pd.to_numeric(df['converted_x'], errors='coerce')\n",
    "df['converted_y'] = pd.to_numeric(df['converted_y'], errors='coerce')"
   ]
  },
  {
   "cell_type": "code",
   "execution_count": null,
   "metadata": {},
   "outputs": [],
   "source": [
    "# remove rows where there is no value in the event_type field (1,010 instances)\n",
    "df.dropna(subset=['event_type'], inplace=True)"
   ]
  },
  {
   "cell_type": "markdown",
   "metadata": {},
   "source": [
    "## Identify Top Players"
   ]
  },
  {
   "cell_type": "code",
   "execution_count": null,
   "metadata": {},
   "outputs": [],
   "source": []
  },
  {
   "cell_type": "markdown",
   "metadata": {},
   "source": []
  }
 ],
 "metadata": {
  "kernelspec": {
   "display_name": "45983",
   "language": "python",
   "name": "python3"
  },
  "language_info": {
   "codemirror_mode": {
    "name": "ipython",
    "version": 3
   },
   "file_extension": ".py",
   "mimetype": "text/x-python",
   "name": "python",
   "nbconvert_exporter": "python",
   "pygments_lexer": "ipython3",
   "version": "3.9.21"
  }
 },
 "nbformat": 4,
 "nbformat_minor": 2
}
